{
 "cells": [
  {
   "cell_type": "code",
   "execution_count": 2,
   "id": "ef76e7e3-49ef-4d2c-a5f0-7c87e9ea6c20",
   "metadata": {},
   "outputs": [
    {
     "name": "stdout",
     "output_type": "stream",
     "text": [
      "{1, 2, 3, 4, 5}\n"
     ]
    }
   ],
   "source": [
    "#set\n",
    "#union,intersection,difference,symmetric difference\n",
    "#airthmetic operations\n",
    "set1={1,2,3}\n",
    "set2={3,4,5}\n",
    "print(set1.union(set2)) #will combine both the sets and remove any duplicate value\n"
   ]
  },
  {
   "cell_type": "code",
   "execution_count": 3,
   "id": "cbf7b0d4-f951-4383-a421-397351a2fa77",
   "metadata": {},
   "outputs": [
    {
     "name": "stdout",
     "output_type": "stream",
     "text": [
      "{3}\n"
     ]
    }
   ],
   "source": [
    "print(set1.intersection(set2)) #will give the common element/value"
   ]
  },
  {
   "cell_type": "code",
   "execution_count": 4,
   "id": "6bc6a3f7-a8f6-4d67-9379-196b1b69be50",
   "metadata": {},
   "outputs": [
    {
     "name": "stdout",
     "output_type": "stream",
     "text": [
      "{1, 2}\n"
     ]
    }
   ],
   "source": [
    "print(set1.difference(set2)) #will give all the values of the first set after removing the elements that are occuring in set 2"
   ]
  },
  {
   "cell_type": "code",
   "execution_count": 5,
   "id": "cf324615-2929-4fd2-bee2-490aa5ad1604",
   "metadata": {},
   "outputs": [
    {
     "name": "stdout",
     "output_type": "stream",
     "text": [
      "{1, 2, 4, 5}\n"
     ]
    }
   ],
   "source": [
    "print(set1.symmetric_difference(set2)) #will give the elements that are not repeated"
   ]
  },
  {
   "cell_type": "code",
   "execution_count": 6,
   "id": "ce2c39b5-4748-4b36-a276-efaeb25090c5",
   "metadata": {},
   "outputs": [
    {
     "data": {
      "text/plain": [
       "frozenset()"
      ]
     },
     "execution_count": 6,
     "metadata": {},
     "output_type": "execute_result"
    }
   ],
   "source": [
    "#frozen set\n",
    "frozenset()\n"
   ]
  },
  {
   "cell_type": "code",
   "execution_count": 7,
   "id": "4335dc11-0efe-4c1c-997a-a39fd7b94bd9",
   "metadata": {},
   "outputs": [],
   "source": [
    "#loops(when its required to run the block of code multiple times)\n",
    "#for loop\n",
    "#while loop\n",
    "\n"
   ]
  },
  {
   "cell_type": "code",
   "execution_count": 8,
   "id": "2d168033-4a76-4dee-978e-e030c93b245c",
   "metadata": {},
   "outputs": [
    {
     "name": "stdout",
     "output_type": "stream",
     "text": [
      "1\n",
      "2\n",
      "3\n",
      "4\n"
     ]
    }
   ],
   "source": [
    "#for loop\n",
    "list1=[1,2,3,4]\n",
    "for i in list1:\n",
    "  print(i)"
   ]
  },
  {
   "cell_type": "code",
   "execution_count": 9,
   "id": "c8ea089e-4a06-49bf-b1be-529ca398bf52",
   "metadata": {},
   "outputs": [
    {
     "name": "stdout",
     "output_type": "stream",
     "text": [
      "2\n",
      "4\n",
      "6\n",
      "8\n"
     ]
    }
   ],
   "source": [
    "for i in list1:\n",
    "  print(2*i)"
   ]
  },
  {
   "cell_type": "code",
   "execution_count": 10,
   "id": "07156fc9-a570-4949-a17b-f5e939d8de69",
   "metadata": {},
   "outputs": [
    {
     "name": "stdout",
     "output_type": "stream",
     "text": [
      "0\n",
      "2\n",
      "4\n",
      "6\n",
      "8\n",
      "10\n",
      "12\n",
      "14\n",
      "16\n",
      "18\n",
      "20\n"
     ]
    }
   ],
   "source": [
    "#range(5)......0,1,2,3,4\n",
    "#range(9)....0,1,2,3,4,5,6,7,8\n",
    "for i in range(11):\n",
    "  print(2*i)                              #FOR i in iterable data type:"
   ]
  },
  {
   "cell_type": "code",
   "execution_count": 12,
   "id": "cec18cc6-5251-4847-a695-14750e2e49c3",
   "metadata": {},
   "outputs": [
    {
     "name": "stdout",
     "output_type": "stream",
     "text": [
      "apple\n",
      "banana\n",
      "cherry\n"
     ]
    }
   ],
   "source": [
    "fruits=['apple','banana','cherry']\n",
    "for fruit in fruits:\n",
    "  print(fruit)"
   ]
  },
  {
   "cell_type": "code",
   "execution_count": 27,
   "id": "e5f615db-3b25-4289-97d4-495094274423",
   "metadata": {},
   "outputs": [
    {
     "name": "stdout",
     "output_type": "stream",
     "text": [
      "5 * 1 = 5\n",
      "5 * 2 = 10\n",
      "5 * 3 = 15\n",
      "5 * 4 = 20\n",
      "5 * 5 = 25\n",
      "5 * 6 = 30\n",
      "5 * 7 = 35\n",
      "5 * 8 = 40\n",
      "5 * 9 = 45\n",
      "5 * 10 = 50\n"
     ]
    }
   ],
   "source": [
    "#table\n",
    "for i in range(1,11):\n",
    "   print(f'5 * {i} =',5*i)\n",
    "    "
   ]
  },
  {
   "cell_type": "code",
   "execution_count": 28,
   "id": "705c77c8-7847-4967-b649-3a78ab3805f0",
   "metadata": {},
   "outputs": [
    {
     "name": "stdout",
     "output_type": "stream",
     "text": [
      "10\n",
      "20\n",
      "30\n",
      "40\n",
      "50\n",
      "60\n"
     ]
    }
   ],
   "source": [
    "tuple1=(1,2,3,4,5,6)\n",
    "for i in tuple1:\n",
    "  print(i*10)"
   ]
  },
  {
   "cell_type": "code",
   "execution_count": 29,
   "id": "2267d473-c85b-4c4e-a53f-9ba215b0ed41",
   "metadata": {},
   "outputs": [
    {
     "name": "stdout",
     "output_type": "stream",
     "text": [
      "j a i p u r "
     ]
    }
   ],
   "source": [
    "city='jaipur'\n",
    "for alphabet in city:\n",
    "  print(alphabet,end=' ')"
   ]
  },
  {
   "cell_type": "code",
   "execution_count": 30,
   "id": "7916c536-a3c7-460c-890a-94bb67f5884d",
   "metadata": {},
   "outputs": [
    {
     "name": "stdout",
     "output_type": "stream",
     "text": [
      "name\n",
      "city\n",
      "pincode\n"
     ]
    }
   ],
   "source": [
    "my_dict ={'name':'suraj','city':'jaipur','pincode':302012}\n",
    "for keys in my_dict:\n",
    "  print(keys)"
   ]
  },
  {
   "cell_type": "code",
   "execution_count": 31,
   "id": "19a1cb48-2ec3-464b-8d79-180d4e9e1310",
   "metadata": {},
   "outputs": [
    {
     "name": "stdout",
     "output_type": "stream",
     "text": [
      "suraj\n",
      "jaipur\n",
      "302012\n"
     ]
    }
   ],
   "source": [
    "for values in my_dict.values():\n",
    "  print(values)"
   ]
  },
  {
   "cell_type": "code",
   "execution_count": 32,
   "id": "9fb6f258-45e5-425b-bf8c-423cf7222a8c",
   "metadata": {},
   "outputs": [
    {
     "name": "stdout",
     "output_type": "stream",
     "text": [
      "key:name, values:suraj\n",
      "key:city, values:jaipur\n",
      "key:pincode, values:302012\n"
     ]
    }
   ],
   "source": [
    "my_dict ={'name':'suraj','city':'jaipur','pincode':302012}\n",
    "for key,values in my_dict.items():\n",
    "  print(f\"key:{key}, values:{values}\")\n"
   ]
  },
  {
   "cell_type": "code",
   "execution_count": null,
   "id": "61560bdc-8aef-44f1-bc99-5735107c9cd4",
   "metadata": {},
   "outputs": [],
   "source": []
  },
  {
   "cell_type": "code",
   "execution_count": null,
   "id": "cc8e848b-9ec1-4f1c-b5dc-573c30b9e3ed",
   "metadata": {},
   "outputs": [],
   "source": []
  },
  {
   "cell_type": "code",
   "execution_count": null,
   "id": "a8cd5db5-3382-4265-bcbe-e45a834d20cc",
   "metadata": {},
   "outputs": [],
   "source": []
  }
 ],
 "metadata": {
  "kernelspec": {
   "display_name": "Python 3 (ipykernel)",
   "language": "python",
   "name": "python3"
  },
  "language_info": {
   "codemirror_mode": {
    "name": "ipython",
    "version": 3
   },
   "file_extension": ".py",
   "mimetype": "text/x-python",
   "name": "python",
   "nbconvert_exporter": "python",
   "pygments_lexer": "ipython3",
   "version": "3.10.11"
  }
 },
 "nbformat": 4,
 "nbformat_minor": 5
}
